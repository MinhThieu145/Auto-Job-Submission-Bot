{
 "cells": [
  {
   "cell_type": "code",
   "execution_count": 10,
   "metadata": {},
   "outputs": [],
   "source": [
    "import pandas as pd\n",
    "import numpy as np\n",
    "import matplotlib.pyplot as plt\n",
    "\n",
    "import openai    \n",
    "openai.api_key=''\n"
   ]
  },
  {
   "attachments": {},
   "cell_type": "markdown",
   "metadata": {},
   "source": [
    "# We shall start here"
   ]
  },
  {
   "attachments": {},
   "cell_type": "markdown",
   "metadata": {},
   "source": [
    "### Main function to interact with GPT API"
   ]
  },
  {
   "cell_type": "code",
   "execution_count": 5,
   "metadata": {},
   "outputs": [],
   "source": [
    "def get_completion(prompt, model=\"gpt-3.5-turbo\", temperature=0.0):\n",
    "    messages = [{\"role\": \"user\", \"content\": prompt}]\n",
    "    response = openai.ChatCompletion.create(\n",
    "        model=model,\n",
    "        messages=messages,\n",
    "        temperature=temperature, # this is the degree of randomness of the model's output\n",
    "    )\n",
    "    return response.choices[0].message[\"content\"]\n"
   ]
  },
  {
   "cell_type": "code",
   "execution_count": null,
   "metadata": {},
   "outputs": [],
   "source": [
    "df = pd.read_csv('cloud architect.csv')\n",
    "df.sample(5)"
   ]
  },
  {
   "cell_type": "code",
   "execution_count": null,
   "metadata": {},
   "outputs": [],
   "source": [
    "job = df.iloc[322]\n",
    "job"
   ]
  },
  {
   "cell_type": "code",
   "execution_count": null,
   "metadata": {},
   "outputs": [],
   "source": [
    "job_description = df.iloc[322]['description']\n",
    "job_description"
   ]
  },
  {
   "cell_type": "code",
   "execution_count": null,
   "metadata": {},
   "outputs": [],
   "source": [
    "# dump the text to a text file\n",
    "with open('prompt.txt', 'w') as f:\n",
    "    f.write(job_description)"
   ]
  },
  {
   "attachments": {},
   "cell_type": "markdown",
   "metadata": {},
   "source": [
    "### My though go here\n",
    "- Hi there. It's sooo good to talk to you. I'm the one that in charge for this job\n",
    "- Hope we can have a great time\n",
    "\n",
    "**Tasks:** \\\n",
    "You shall need to do 2 things for this job:\n",
    "    - create a resume (or at least make the process of writing and tuning resume for each job easier)\n",
    "    - create a cover letter (this is the one I think should be automate completely) "
   ]
  },
  {
   "attachments": {},
   "cell_type": "markdown",
   "metadata": {},
   "source": [
    "**here is how you should read a job description:**\n",
    "\n",
    "- "
   ]
  },
  {
   "attachments": {},
   "cell_type": "markdown",
   "metadata": {},
   "source": [
    "## Experiment Zone"
   ]
  },
  {
   "cell_type": "code",
   "execution_count": 22,
   "metadata": {},
   "outputs": [],
   "source": [
    "job_description = '''\n",
    "Company Description\n",
    "See yourself at NBCU! Be a part of our intern community, a diverse group of curious and passionate trailblazers who we believe are the future of our industry. \n",
    "\n",
    "The NBCUniversal Internship Program allows students to unlock their potential by contributing to big projects in meaningful ways that matter. To thrive as an NBCU intern, you are ready to bring your passion for media, entertainment, and technology along with your desire to learn each day. \n",
    "Your professional development is important to us. NBCU interns receive career prep, leadership exposure, connection to other interns, networking, and of course, all the fun you can imagine along the way. Because we know it can be challenging to balance coursework and internship commitments, we offer interns paid time off for mental health, school exams, and personal holidays. \n",
    "\n",
    "To meet students where they are, we will host internships in both a virtual and in-person format. Opportunities listed will either be in-person based on the location mentioned or virtual, depending on business needs. Some of our internship opportunities that begin in September will continue through the Academic Year and end in April. Please be sure to read this job description carefully and note the internship dates, locations, and departments before applying. \n",
    "\n",
    "\n",
    "\n",
    "\n",
    "\n",
    "Job Description\n",
    "\n",
    "Academic Year Internship Program: \n",
    "\n",
    "    Applications Close: June 9, 2023 at 11:59pm ET. Pro Tip: Submit your application as soon as possible – don't delay! \n",
    "    Program Dates: September 18, 2023 – April 19, 2024 \n",
    "    Time Commitment: 16-24 hours per week. Exact schedule to be determined based on business need. We will do our best to accommodate course schedules. \n",
    "\n",
    "\n",
    "To Apply: \n",
    "\n",
    "    Submit a one-page resume that outlines your work experience, accomplishments, and your graduation month and year. \n",
    "    Submit a cover letter that highlights your passion for NBCUniversal, the locations (listed below) you are open to for internships, and your top areas of interest (opportunities listed below). \n",
    "    Upload a transcript (unofficial transcripts are fine) that confirms your status as an actively enrolled student in a degree-granting program. \n",
    "\n",
    "\n",
    "Content Distribution is a division of NBCUniversal that drives the North American distribution of the company’s multi-billion dollar television portfolio to cable, satellite and telco providers, as well as live streaming services, and other digital platforms. A key revenue-generator, the division oversees the distribution of NBC and Telemundo owned stations, all of NBCUniversal’s cable entertainment, news and sports networks, and the Olympics. The group also leads the content strategy and development for offerings that include video-on-demand (VOD) and TV Everywhere (TVE). \n",
    "Areas of placement may include, but are not limited to: \n",
    " \n",
    "\n",
    "    Program Management Data Analytics: This intern will be part of the Content Distribution Digital Products and Operations team. They can expect to play an important role that stretch across multiple teams within Content Distribution and across external technology teams. Project and role responsibilities will include but not limited to creating and deploying data visualizations using Tableau or Metabase and developing alerts to continuously monitor health program streams. \n",
    "\n",
    "\n",
    "Qualifications\n",
    "\n",
    "Basic Requirements: \n",
    "\n",
    "    Must be actively enrolled in a degree-granting program at an accredited institution during the entire duration of the program. \n",
    "    Current class standing of sophomore or above (30 credits). \n",
    "    Must be authorized to work in the United States without visa sponsorship by NBCUniversal. \n",
    "    Must be working from a location within the United States during all hours worked. \n",
    "\n",
    "\n",
    "Desired Characteristics: \n",
    "\n",
    "    Students with class standing of junior or above preferred. \n",
    "    Cumulative GPA of 3.0 or above. \n",
    "    Pursuing a degree in Computer Science, Statistics, Information Systems, Data Analytics, Business Analytics, or related field. \n",
    "    Minimum of one (1) year of experience working with the following: \n",
    "    Python, SQL, Tableau, MS Excel, VBA. \n",
    "    Developing dashboard and views using data visualization applications (e.g. Tableau; Power BI). \n",
    "    Reading and writing SQL queries. \n",
    "    SQL joins and common SQL table expressions. \n",
    "    Working with multiple data sources and data types. \n",
    "    Evaluating datasets for quality and accuracy by identifying discrepancies within datasets. \n",
    "\n",
    " \n",
    "The hourly rate for undergraduate student interns is $17.00. \n",
    "The hourly rate for graduate student interns is $25.00. \n",
    "'''"
   ]
  },
  {
   "cell_type": "code",
   "execution_count": 23,
   "metadata": {},
   "outputs": [
    {
     "name": "stdout",
     "output_type": "stream",
     "text": [
      "NBCUniversal is seeking interns for their Academic Year Internship Program, with a time commitment of 16-24 hours per week from September 18, 2023, to April 19, 2024. The Content Distribution division is looking for interns with experience in Python, SQL, Tableau, MS Excel, VBA, and data visualization applications to join their Digital Products and Operations team. Applicants must be actively enrolled in a degree-granting program, have a cumulative GPA of 3.0 or above, and be authorized to work in the United States without visa sponsorship.\n"
     ]
    }
   ],
   "source": [
    "prompt = f'''\n",
    "Your task is to generate a short summary of the job description to suggest key \\ \n",
    "ideas to a job seeker. \\\n",
    "\n",
    "Summarize the following job description, delimited by tripple bacticks: \\\n",
    "in at most 3 sentences, and focus on key skills and requirements. \\\n",
    "\n",
    "Job Description: ```{job_description}```\n",
    "\n",
    "'''\n",
    "\n",
    "response = get_completion(prompt)\n",
    "print(response)"
   ]
  },
  {
   "cell_type": "code",
   "execution_count": 24,
   "metadata": {},
   "outputs": [
    {
     "name": "stdout",
     "output_type": "stream",
     "text": [
      "{\n",
      "  \"Job Title\": \"Content Distribution Digital Products and Operations Intern\",\n",
      "  \"Technical Skills\": [\n",
      "    \"Python\",\n",
      "    \"SQL\",\n",
      "    \"Tableau\",\n",
      "    \"MS Excel\",\n",
      "    \"VBA\"\n",
      "  ],\n",
      "  \"Other Responsibilities\": [\n",
      "    \"Creating and deploying data visualizations using Tableau or Metabase\",\n",
      "    \"Developing alerts to continuously monitor health program streams\"\n",
      "  ],\n",
      "  \"General Technical Skills\": [\n",
      "    \"Data Analytics\",\n",
      "    \"Business Analytics\"\n",
      "  ],\n",
      "  \"Background Clearance\": \"No\",\n",
      "  \"Years of Experience\": \"Minimum of one (1) year\",\n",
      "  \"Is this intern or entry position\": \"Intern\"\n",
      "}\n"
     ]
    }
   ],
   "source": [
    "prompt = f'''\n",
    "Your task is to extract key information from a job description. \n",
    "\n",
    "The job description is delimited by tripple bacticks\\\n",
    "Format your response as a JSON object with the following keys listed below. \\\n",
    "The description of each key is delimited by double bactick, this information is only for you to understand\\\n",
    "the content of each key. Don't include it in your response. \n",
    "- \"Job Title:\" ``What is the job title?``\n",
    "- \"Technical Skills:\" ``Skills like C++, Saleforce, AWS are considered technical skills``\n",
    "- \"Other Responsibilities:\" ``Skills like Business Analytics, Giving data-driven decisions are considered soft skills``\n",
    "- \"General Technical SKills:\" ``Grouping technical skills into a more general category, like \"Cloud Computing\"``\n",
    "- \"Background Clearance:\" `Broad knowledge of enterprise business systems, but particularly CRM, BI and BPM.\n",
    "`Does the job require a background clearance? Answer in Yes or No``\n",
    "- \"Years of Experience:\" ``How many years of experience are required?``\n",
    "- \"Is this intern or entry position\" ``Answer in Yes or No``\n",
    "\n",
    "Job Description: ```{job_description}```\n",
    "\n",
    "'''\n",
    "\n",
    "response = get_completion(prompt)\n",
    "print(response)"
   ]
  },
  {
   "cell_type": "code",
   "execution_count": null,
   "metadata": {},
   "outputs": [],
   "source": [
    "prompt = f'''\n",
    "Your task is to generate a few projects in resume, based on the information provided.\\\n",
    "The information will be provided to you as a JSON object. \\\n",
    "Based on the given information, generate 2 projects that the job seeker can add to their resume. \\\n",
    "The information is delimited by tripple bacticks. \\\n",
    "\n",
    "Information: ```{response}```\n",
    "'''\n",
    "\n",
    "response = get_completion(prompt)\n",
    "print(response)"
   ]
  },
  {
   "cell_type": "code",
   "execution_count": 25,
   "metadata": {},
   "outputs": [],
   "source": [
    "job_summary = '''\n",
    "Responsibility:\n",
    "- Analyzed excel and CSV files containing patient data to identify anomalies and detect patterns in patients' health statuses.\n",
    "- Utilized Python for data cleaning, transformation, and aggregation, ensuring data accuracy and consistency.\n",
    "- Developed and implemented data quality checks to validate the integrity of the patient data.\n",
    "- Collaborated with the data team to design and implement data pipelines for efficient data processing.\n",
    "- Created insightful visualizations and reports using Power BI to present the analyzed data to stakeholders.\n",
    "- Designed and developed interactive dashboards in Power BI to provide real-time insights into patients' health conditions.\n",
    "- Collaborated with cross-functional teams to understand the business requirements and deliver data-driven solutions.\n",
    "- Conducted thorough data analysis to identify trends, correlations, and potential health risks in the patient population.\n",
    "- Collaborated with healthcare professionals to validate findings and provide actionable insights for improved patient care.\n",
    "- Conducted regular audits to ensure data accuracy and compliance with data protection regulations.\n",
    "- Actively participated in team meetings, sharing knowledge and insights to improve overall data analysis processes.\n",
    "- Kept up-to-date with the latest advancements in data analytics, data cleaning techniques, and visualization tools.\n",
    "\n",
    "Achievements:\n",
    "\n",
    "- Developed a streamlined data cleaning and aggregation process, reducing data processing time by 30%.\n",
    "- Created a comprehensive patient health dashboard using Power BI, which improved data visibility and informed decision-making.\n",
    "- Received positive feedback from healthcare professionals for identifying critical health trends and recommending proactive measures.\n",
    "- Implemented automated anomaly detection algorithms, reducing manual effort and improving accuracy in identifying abnormal patient health conditions.\n",
    "\n",
    "Skills Utilized:\n",
    "\n",
    "- Excel and CSV file analysis\n",
    "- Python programming for data cleaning, transformation, and aggregation\n",
    "- Power BI for data visualization and dashboard creation\n",
    "- Data quality checks and validation\n",
    "- Data analysis and interpretation\n",
    "- Collaboration and communication with cross-functional teams\n",
    "- Attention to detail and adherence to data protection regulations\n",
    "'''"
   ]
  },
  {
   "cell_type": "code",
   "execution_count": 29,
   "metadata": {},
   "outputs": [],
   "source": [
    "def get_completion_creative(prompt, model=\"gpt-3.5-turbo\"):\n",
    "    messages = [{\"role\": \"user\", \"content\": prompt}]\n",
    "    response = openai.ChatCompletion.create(\n",
    "        model=model,\n",
    "        messages=messages,\n",
    "        temperature=0.4, # this is the degree of randomness of the model's output\n",
    "    )\n",
    "    return response.choices[0].message[\"content\"]"
   ]
  },
  {
   "cell_type": "code",
   "execution_count": 30,
   "metadata": {},
   "outputs": [
    {
     "name": "stdout",
     "output_type": "stream",
     "text": [
      "- Encountered data inconsistencies and potential issues in program streams.\n",
      "- Utilized Python and MS Excel for data analysis and interpretation to identify and resolve data inconsistencies.\n",
      "- Improved program efficiency by 20% and reduced response time by 50% through the development of alerts using VBA.\n"
     ]
    }
   ],
   "source": [
    "prompt = f'''\n",
    "Your task is to generate a job experience for my resume.\\\n",
    "based on the given description of my job, delimited by double backticks\\\n",
    "\n",
    "The job experience on resume will only in 3 sentence. Each sentence on a seperated line.\\\n",
    "Below is the requirement for each sentence. Only strictly use the skill I have in the job experience\\\n",
    "I have given to you to generate your job description\n",
    "\n",
    "Format for your job description, limited by backtick\n",
    "`\n",
    "- bullet point 1: <What Problem I have encountered>\n",
    "- bullet point 2: <How do I deal with that problem with which skills or tools>\n",
    "- bullet point 3: <Result and achivement of that job experience>\n",
    "`\n",
    "\n",
    "This job experience is for a job description describe by the json object, delimited by triple backticks\n",
    "Job Experience: ``{job_summary}``\n",
    "\n",
    "Job Description: ```{response}```\n",
    "\n",
    "'''\n",
    "\n",
    "response = get_completion_creative(prompt)\n",
    "print(response)"
   ]
  },
  {
   "attachments": {},
   "cell_type": "markdown",
   "metadata": {},
   "source": [
    "### Test 1"
   ]
  },
  {
   "cell_type": "code",
   "execution_count": 6,
   "metadata": {},
   "outputs": [],
   "source": [
    "# job_summary\n",
    "job_summary = '''\n",
    "Responsibility:\n",
    "- Analyzed excel and CSV files containing patient data to identify anomalies and detect patterns in patients' health statuses.\n",
    "- Utilized Python for data cleaning, transformation, and aggregation, ensuring data accuracy and consistency.\n",
    "- Developed and implemented data quality checks to validate the integrity of the patient data.\n",
    "- Collaborated with the data team to design and implement data pipelines for efficient data processing.\n",
    "- Created insightful visualizations and reports using Power BI to present the analyzed data to stakeholders.\n",
    "- Designed and developed interactive dashboards in Power BI to provide real-time insights into patients' health conditions.\n",
    "- Collaborated with cross-functional teams to understand the business requirements and deliver data-driven solutions.\n",
    "- Conducted thorough data analysis to identify trends, correlations, and potential health risks in the patient population.\n",
    "- Collaborated with healthcare professionals to validate findings and provide actionable insights for improved patient care.\n",
    "- Conducted regular audits to ensure data accuracy and compliance with data protection regulations.\n",
    "- Actively participated in team meetings, sharing knowledge and insights to improve overall data analysis processes.\n",
    "- Kept up-to-date with the latest advancements in data analytics, data cleaning techniques, and visualization tools.\n",
    "\n",
    "Achievements:\n",
    "\n",
    "- Developed a streamlined data cleaning and aggregation process, reducing data processing time by 30%.\n",
    "- Created a comprehensive patient health dashboard using Power BI, which improved data visibility and informed decision-making.\n",
    "- Received positive feedback from healthcare professionals for identifying critical health trends and recommending proactive measures.\n",
    "- Implemented automated anomaly detection algorithms, reducing manual effort and improving accuracy in identifying abnormal patient health conditions.\n",
    "\n",
    "Skills Utilized:\n",
    "\n",
    "- Excel and CSV file analysis\n",
    "- Python programming for data cleaning, transformation, and aggregation\n",
    "- Power BI for data visualization and dashboard creation\n",
    "- Data quality checks and validation\n",
    "- Data analysis and interpretation\n",
    "- Collaboration and communication with cross-functional teams\n",
    "- Attention to detail and adherence to data protection regulations\n",
    "'''"
   ]
  },
  {
   "cell_type": "code",
   "execution_count": 7,
   "metadata": {},
   "outputs": [],
   "source": [
    "# job description\n",
    "job_description = '''\n",
    "Company Description\n",
    "See yourself at NBCU! Be a part of our intern community, a diverse group of curious and passionate trailblazers who we believe are the future of our industry. \n",
    "\n",
    "The NBCUniversal Internship Program allows students to unlock their potential by contributing to big projects in meaningful ways that matter. To thrive as an NBCU intern, you are ready to bring your passion for media, entertainment, and technology along with your desire to learn each day. \n",
    "Your professional development is important to us. NBCU interns receive career prep, leadership exposure, connection to other interns, networking, and of course, all the fun you can imagine along the way. Because we know it can be challenging to balance coursework and internship commitments, we offer interns paid time off for mental health, school exams, and personal holidays. \n",
    "\n",
    "To meet students where they are, we will host internships in both a virtual and in-person format. Opportunities listed will either be in-person based on the location mentioned or virtual, depending on business needs. Some of our internship opportunities that begin in September will continue through the Academic Year and end in April. Please be sure to read this job description carefully and note the internship dates, locations, and departments before applying. \n",
    "\n",
    "\n",
    "\n",
    "\n",
    "\n",
    "Job Description\n",
    "\n",
    "Academic Year Internship Program: \n",
    "\n",
    "    Applications Close: June 9, 2023 at 11:59pm ET. Pro Tip: Submit your application as soon as possible – don't delay! \n",
    "    Program Dates: September 18, 2023 – April 19, 2024 \n",
    "    Time Commitment: 16-24 hours per week. Exact schedule to be determined based on business need. We will do our best to accommodate course schedules. \n",
    "\n",
    "\n",
    "To Apply: \n",
    "\n",
    "    Submit a one-page resume that outlines your work experience, accomplishments, and your graduation month and year. \n",
    "    Submit a cover letter that highlights your passion for NBCUniversal, the locations (listed below) you are open to for internships, and your top areas of interest (opportunities listed below). \n",
    "    Upload a transcript (unofficial transcripts are fine) that confirms your status as an actively enrolled student in a degree-granting program. \n",
    "\n",
    "\n",
    "Content Distribution is a division of NBCUniversal that drives the North American distribution of the company’s multi-billion dollar television portfolio to cable, satellite and telco providers, as well as live streaming services, and other digital platforms. A key revenue-generator, the division oversees the distribution of NBC and Telemundo owned stations, all of NBCUniversal’s cable entertainment, news and sports networks, and the Olympics. The group also leads the content strategy and development for offerings that include video-on-demand (VOD) and TV Everywhere (TVE). \n",
    "Areas of placement may include, but are not limited to: \n",
    " \n",
    "\n",
    "    Program Management Data Analytics: This intern will be part of the Content Distribution Digital Products and Operations team. They can expect to play an important role that stretch across multiple teams within Content Distribution and across external technology teams. Project and role responsibilities will include but not limited to creating and deploying data visualizations using Tableau or Metabase and developing alerts to continuously monitor health program streams. \n",
    "\n",
    "\n",
    "Qualifications\n",
    "\n",
    "Basic Requirements: \n",
    "\n",
    "    Must be actively enrolled in a degree-granting program at an accredited institution during the entire duration of the program. \n",
    "    Current class standing of sophomore or above (30 credits). \n",
    "    Must be authorized to work in the United States without visa sponsorship by NBCUniversal. \n",
    "    Must be working from a location within the United States during all hours worked. \n",
    "\n",
    "\n",
    "Desired Characteristics: \n",
    "\n",
    "    Students with class standing of junior or above preferred. \n",
    "    Cumulative GPA of 3.0 or above. \n",
    "    Pursuing a degree in Computer Science, Statistics, Information Systems, Data Analytics, Business Analytics, or related field. \n",
    "    Minimum of one (1) year of experience working with the following: \n",
    "    Python, SQL, Tableau, MS Excel, VBA. \n",
    "    Developing dashboard and views using data visualization applications (e.g. Tableau; Power BI). \n",
    "    Reading and writing SQL queries. \n",
    "    SQL joins and common SQL table expressions. \n",
    "    Working with multiple data sources and data types. \n",
    "    Evaluating datasets for quality and accuracy by identifying discrepancies within datasets. \n",
    "\n",
    " \n",
    "The hourly rate for undergraduate student interns is $17.00. \n",
    "The hourly rate for graduate student interns is $25.00. \n",
    "'''"
   ]
  },
  {
   "cell_type": "code",
   "execution_count": 11,
   "metadata": {},
   "outputs": [
    {
     "name": "stdout",
     "output_type": "stream",
     "text": [
      "{\n",
      "  \"Job Title\": \"Content Distribution Digital Products and Operations Intern\",\n",
      "  \"Technical Skills\": [\n",
      "    \"Python\",\n",
      "    \"SQL\",\n",
      "    \"Tableau\",\n",
      "    \"MS Excel\",\n",
      "    \"VBA\"\n",
      "  ],\n",
      "  \"Other Responsibilities\": [\n",
      "    \"Creating and deploying data visualizations using Tableau or Metabase\",\n",
      "    \"Developing alerts to continuously monitor health program streams\"\n",
      "  ],\n",
      "  \"General Technical Skills\": [\n",
      "    \"Data Analytics\",\n",
      "    \"Business Analytics\"\n",
      "  ],\n",
      "  \"Background Clearance\": \"No\",\n",
      "  \"Years of Experience\": \"Minimum of one (1) year\",\n",
      "  \"Is this intern or entry position\": \"Intern\"\n",
      "}\n"
     ]
    }
   ],
   "source": [
    "# Extract key details from the job description\n",
    "\n",
    "prompt = f'''\n",
    "Your task is to extract key information from a job description. \n",
    "\n",
    "The job description is delimited by tripple bacticks\\\n",
    "Format your response as a JSON object with the following keys listed below. \\\n",
    "The description of each key is delimited by double bactick, this information is only for you to understand\\\n",
    "the content of each key. Don't include it in your response. \n",
    "- \"Job Title:\" ``What is the job title?``\n",
    "- \"Technical Skills:\" ``Skills like C++, Saleforce, AWS are considered technical skills``\n",
    "- \"Other Responsibilities:\" ``Skills like Business Analytics, Giving data-driven decisions are considered soft skills``\n",
    "- \"General Technical SKills:\" ``Grouping technical skills into a more general category, like \"Cloud Computing\"``\n",
    "- \"Background Clearance:\" `Broad knowledge of enterprise business systems, but particularly CRM, BI and BPM.\n",
    "`Does the job require a background clearance? Answer in Yes or No``\n",
    "- \"Years of Experience:\" ``How many years of experience are required?``\n",
    "- \"Is this intern or entry position\" ``Answer in Yes or No``\n",
    "\n",
    "Job Description: ```{job_description}```\n",
    "\n",
    "'''\n",
    "\n",
    "key_detail_job = get_completion(prompt)\n",
    "print(key_detail_job)"
   ]
  },
  {
   "cell_type": "code",
   "execution_count": 18,
   "metadata": {},
   "outputs": [
    {
     "name": "stdout",
     "output_type": "stream",
     "text": [
      "- Analyzed patient data to identify anomalies and detect patterns in health statuses, developed data quality checks to validate data integrity, and created insightful visualizations and reports using Power BI to present analyzed data to stakeholders. (from job summary)\n",
      "- Utilized Python for data cleaning, transformation, and aggregation, Excel and CSV file analysis, and Power BI for data visualization and dashboard creation. (from job summary and key details)\n",
      "- Developed a streamlined data cleaning and aggregation process which reduced data processing time by 30%, created comprehensive patient health dashboard using Power BI which improved data visibility and informed decision-making, and implemented automated anomaly detection algorithms to reduce manual effort and improve accuracy in identifying abnormal patient health conditions. (from job summary)\n"
     ]
    }
   ],
   "source": [
    "prompt = f'''\n",
    "Your task is generate a work experience for my resume, based on 2 piece of info below.\n",
    "\n",
    "1. The summary of that job. This is the description of what I have done, my responsibility, my achievement, and my skills.\\\n",
    "The summary is delimeted by angle bracket.\\\n",
    "Summary: <{job_summary}>\n",
    "\n",
    "2. The key details from job description. This is the key detail of the position I applied for, contained in the JSON format.\\\n",
    "The job description is delimited by triple backticks.\\\n",
    "Key Details Job Description: ```{key_detail_job}```\n",
    "\n",
    "The work experience in the resume will be about the job that I have done (using my job summary), \\\n",
    "but also try to include the key details from the job description ONLY IF it is in my job summary \\\n",
    "Make sure that your answer is accurate according to job summary. Do not make up any information that I don't have in my job summary. \\\n",
    "Structure your response in 3 sentences. Each as a bullet point with its purpose. \\\n",
    "`\n",
    "- bullet point 1: <What did I do for that job. A general description of my work in that job>\n",
    "- bullet point 2: <How do I do it. What tools I have used to did in the previous sentence>\n",
    "- bullet point 3: <The result of that job. What I have achived in my job>\n",
    "`\n",
    "'''\n",
    "\n",
    "response = get_completion(prompt, temperature=1)\n",
    "print(response)"
   ]
  },
  {
   "cell_type": "code",
   "execution_count": null,
   "metadata": {},
   "outputs": [],
   "source": []
  }
 ],
 "metadata": {
  "kernelspec": {
   "display_name": "DataAnalyst",
   "language": "python",
   "name": "python3"
  },
  "language_info": {
   "codemirror_mode": {
    "name": "ipython",
    "version": 3
   },
   "file_extension": ".py",
   "mimetype": "text/x-python",
   "name": "python",
   "nbconvert_exporter": "python",
   "pygments_lexer": "ipython3",
   "version": "3.10.11"
  },
  "orig_nbformat": 4
 },
 "nbformat": 4,
 "nbformat_minor": 2
}
